{
 "cells": [
  {
   "cell_type": "markdown",
   "id": "30be0f23",
   "metadata": {},
   "source": [
    "# api setup"
   ]
  },
  {
   "cell_type": "code",
   "execution_count": 55,
   "id": "cd9c2473",
   "metadata": {},
   "outputs": [],
   "source": [
    "import getpass\n",
    "import os\n",
    "\n",
    "if \"OPENAI_API_KEY\" not in os.environ:\n",
    "    os.environ[\"OPENAI_API_KEY\"] = getpass.getpass(\"Enter your OpenAI API key: \")\n",
    "if not os.environ.get(\"TAVILY_API_KEY\"):\n",
    "    os.environ[\"TAVILY_API_KEY\"] = getpass.getpass(\"Tavily API key:\\n\")"
   ]
  },
  {
   "cell_type": "code",
   "execution_count": 56,
   "id": "010b50f5",
   "metadata": {},
   "outputs": [],
   "source": [
    "# set up tavily search tool\n",
    "from langchain_tavily import TavilySearch\n",
    "\n",
    "search_tool = TavilySearch(\n",
    "    max_results = 3,\n",
    "    topic = \"finance\"\n",
    "    )"
   ]
  },
  {
   "cell_type": "code",
   "execution_count": null,
   "id": "30948855",
   "metadata": {},
   "outputs": [],
   "source": [
    "# set up llm\n",
    "from langchain_openai import ChatOpenAI\n",
    "\n",
    "llm = ChatOpenAI(\n",
    "    model = \"gpt-4o\",\n",
    "    temperature = .1,\n",
    "    max_tokens = 5000,\n",
    "    max_retries = 2,\n",
    ")"
   ]
  },
  {
   "cell_type": "code",
   "execution_count": null,
   "id": "f365be1b",
   "metadata": {},
   "outputs": [],
   "source": [
    "#prompt template\n",
    "def make_system_prompt(suffix: str) -> str:\n",
    "    return (\n",
    "        \"You are a helpful AI assistant, collaborating with other assistants.\"\n",
    "        \" Use the provided tools to progress towards answering the question.\"\n",
    "        \" If you are unable to fully answer, that's OK, another assistant with different tools \"\n",
    "        \" will help where you left off. Execute what you can to make progress.\"\n",
    "        \" If you or any of the other assistants have the final answer or deliverable,\"\n",
    "        \" prefix your response with FINAL ANSWER so the team knows to stop.\"\n",
    "        f\"\\n{suffix}\"\n",
    "    )"
   ]
  },
  {
   "cell_type": "markdown",
   "id": "c45968b6",
   "metadata": {},
   "source": [
    "# nodes"
   ]
  },
  {
   "cell_type": "code",
   "execution_count": null,
   "id": "ef767675",
   "metadata": {},
   "outputs": [],
   "source": [
    "from typing import Annotated, Literal, Sequence\n",
    "from typing_extensions import TypedDict\n",
    "\n",
    "from langchain_core.messages import BaseMessage, HumanMessage\n",
    "from langgraph.graph.message import add_messages\n",
    "from langgraph.prebuilt import create_react_agent\n",
    "from langgraph.graph import END, StateGraph, START, MessagesState\n",
    "from langgraph.types import Command\n",
    "\n",
    "class MessagesState(TypedDict):\n",
    "    # append messages instead of replace\n",
    "    messages: Annotated[Sequence[BaseMessage], add_messages]"
   ]
  },
  {
   "cell_type": "code",
   "execution_count": null,
   "id": "46b23b8c",
   "metadata": {},
   "outputs": [],
   "source": [
    "def get_next_node(last_message: BaseMessage, goto: str):\n",
    "    if \"FINAL ANSWER\" in last_message.content:\n",
    "        return END\n",
    "    return goto"
   ]
  },
  {
   "cell_type": "code",
   "execution_count": null,
   "id": "8169e0ba",
   "metadata": {},
   "outputs": [],
   "source": [
    "# research node\n",
    "research_agent = create_react_agent(\n",
    "    model = llm,\n",
    "    tools = [search_tool],\n",
    "    prompt=make_system_prompt(\n",
    "        \"You can only do research. You are working with a chart generator colleague.\"\n",
    "        \"You should use your tool to search online for financial news to answer the prompt.\"\n",
    "        \"Make sure the news is from the past week. As recent as possible is preferable.\"\n",
    "        \"hen you receive search results, read them and return a bullet-point summary of key findings.\\n\"\n",
    "        \"Be specific, quote numbers, and include URLs. Don’t say 'you couldn't find anything' unless the result set is actually empty.\"\n",
    "        \"Support your advice with quantitative metrics like stock price percent changes, key ratios, and other relevant data.\"\n",
    "    ),\n",
    ")\n",
    "\n",
    "def researcher(state: MessagesState) -> Command[Literal[\"generator\", END]]:\n",
    "    result = research_agent.invoke(state)\n",
    "    goto = get_next_node(result[\"messages\"][-1], \"generator\")\n",
    "    result[\"messages\"][-1] = HumanMessage(\n",
    "        content=result[\"messages\"][-1].content, name=\"researcher\"\n",
    "    )\n",
    "    return Command(\n",
    "        update={\n",
    "            \"messages\": result[\"messages\"],\n",
    "        },\n",
    "        goto=goto,\n",
    "    )\n",
    "\n"
   ]
  },
  {
   "cell_type": "code",
   "execution_count": null,
   "id": "2a1f685c",
   "metadata": {},
   "outputs": [],
   "source": [
    "# generation node\n",
    "generator_agent = create_react_agent(\n",
    "    model = llm,\n",
    "    tools = [],\n",
    "    prompt=make_system_prompt(\n",
    "        \"You are a market prediction assistant. You receive detailed research from your teammate.\\n\"\n",
    "        \"Use the information provided by the 'researcher' to make market predictions and analysis.\\n\"\n",
    "        \"Cite the research and justify your predictions based on it.\\n\" \\\n",
    "        \"You don't have to be very concise. Make sure you are giving good information and evidence.\"\n",
    "    ),\n",
    ")\n",
    "\n",
    "def generator(state: MessagesState) -> Command[Literal[\"researcher\", END]]:\n",
    "    result = generator_agent.invoke(state)\n",
    "    goto = get_next_node(result[\"messages\"][-1], \"researcher\")\n",
    "    result[\"messages\"][-1] = HumanMessage(\n",
    "        content=result[\"messages\"][-1].content, name=\"generator\"\n",
    "    )\n",
    "    return Command(\n",
    "        update={\n",
    "            \"messages\": result[\"messages\"],\n",
    "        },\n",
    "        goto=goto,\n",
    "    )\n"
   ]
  },
  {
   "cell_type": "markdown",
   "id": "797aefcd",
   "metadata": {},
   "source": [
    "# define graph"
   ]
  },
  {
   "cell_type": "code",
   "execution_count": null,
   "id": "7bfdc547",
   "metadata": {},
   "outputs": [],
   "source": [
    "workflow = StateGraph(MessagesState)\n",
    "\n",
    "workflow.add_node(\"researcher\", researcher)\n",
    "workflow.add_node(\"generator\", generator)\n",
    "\n",
    "workflow.add_edge(START, \"researcher\")\n",
    "graph = workflow.compile()\n"
   ]
  },
  {
   "cell_type": "markdown",
   "id": "fe22cd59",
   "metadata": {},
   "source": [
    "# draw graph"
   ]
  },
  {
   "cell_type": "code",
   "execution_count": 64,
   "id": "0f76a00a",
   "metadata": {},
   "outputs": [
    {
     "data": {
      "image/png": "[encoded data removed]",
      "text/plain": [
       "<IPython.core.display.Image object>"
      ]
     },
     "metadata": {},
     "output_type": "display_data"
    }
   ],
   "source": [
    "from langchain_core.runnables.graph import CurveStyle, MermaidDrawMethod, NodeStyles\n",
    "from IPython.display import Image, display\n",
    "import nest_asyncio\n",
    "nest_asyncio.apply()\n",
    "\n",
    "# Draw using Pyppeteer\n",
    "display(\n",
    "    Image(\n",
    "        graph.get_graph().draw_mermaid_png(\n",
    "            curve_style=CurveStyle.LINEAR,\n",
    "            node_colors=NodeStyles(first=\"#ffdfba\", last=\"#baffc9\", default=\"#fad7de\"),\n",
    "            wrap_label_n_words=9,\n",
    "            output_file_path=None,\n",
    "            draw_method=MermaidDrawMethod.PYPPETEER,\n",
    "            background_color=\"white\",\n",
    "            padding=10,\n",
    "        )\n",
    "    )\n",
    ")\n",
    "\n",
    "\n"
   ]
  },
  {
   "cell_type": "markdown",
   "id": "d5c50adc",
   "metadata": {},
   "source": [
    "# execution"
   ]
  },
  {
   "cell_type": "code",
   "execution_count": 65,
   "id": "323a6b58",
   "metadata": {},
   "outputs": [],
   "source": [
    "question = input(\"Ask a question about the market: \")\n",
    "\n",
    "events = graph.stream(\n",
    "    {\n",
    "        \"messages\": [\n",
    "            (\"user\", question)\n",
    "        ],\n",
    "    },\n",
    "    {\"recursion_limit\": 20},\n",
    ")"
   ]
  },
  {
   "cell_type": "code",
   "execution_count": 66,
   "id": "da3fe418",
   "metadata": {},
   "outputs": [
    {
     "name": "stdout",
     "output_type": "stream",
     "text": [
      "The S&P 500 has recently experienced significant volatility but also notable gains. It rose by 2.5%, marking its best day since April 9, driven by optimism over easing trade tensions. However, it also saw a 2.2% decline on April 16, marking the 18th time this year it fell by at least 1% in a single session. Historically, such volatility has been followed by strong returns, averaging 28.3% in the following year. The index is currently up more than 2% following positive trade developments, though it remains sensitive to geopolitical changes. [Sources: Bloomberg, Yahoo Finance]\n"
     ]
    }
   ],
   "source": [
    "for event in events:\n",
    "    if \"generator\" in event:\n",
    "        messages = event[\"generator\"].get(\"messages\", [])\n",
    "        for msg in messages:\n",
    "            if \"FINAL ANSWER:\" in msg.content:\n",
    "                final_answer = msg.content.split(\"FINAL ANSWER:\")[-1].strip()\n",
    "                print(final_answer)\n",
    "    elif \"researcher\" in event:\n",
    "        messages = event[\"researcher\"].get(\"messages\", [])\n",
    "        for msg in messages:\n",
    "            if \"FINAL ANSWER:\" in msg.content:\n",
    "                final_answer = msg.content.split(\"FINAL ANSWER:\")[-1].strip()\n",
    "                print(final_answer)\n"
   ]
  }
 ],
 "metadata": {
  "kernelspec": {
   "display_name": "venv",
   "language": "python",
   "name": "python3"
  },
  "language_info": {
   "codemirror_mode": {
    "name": "ipython",
    "version": 3
   },
   "file_extension": ".py",
   "mimetype": "text/x-python",
   "name": "python",
   "nbconvert_exporter": "python",
   "pygments_lexer": "ipython3",
   "version": "3.12.7"
  }
 },
 "nbformat": 4,
 "nbformat_minor": 5
}
